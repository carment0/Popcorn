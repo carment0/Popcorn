{
 "cells": [
  {
   "cell_type": "markdown",
   "metadata": {},
   "source": [
    "# Low Rank Matrix Factorization\n",
    "\n",
    "## Formulation\n",
    "Let's assume that our system has $I_{user}$ users and $J_{movie}$ movies. We assign $K_{latent}$ features to each user and movie in the system. We can construct a matrix factorization as follows:\n",
    "\n",
    "$$\n",
    "\\begin{vmatrix}\n",
    "x_{0,0} & x_{0,1} & x_{0, 2} & ... & x_{0, K} \\\\\n",
    "x_{1,0} & ...     & ...      & ... & ...      \\\\\n",
    "x_{2,0} & ...     & ...      & ... & ...      \\\\\n",
    "...     & ...     & ...      & ... & ...      \\\\\n",
    "x_{I,0} & ...     & ...      & ... & x_{I, K}\n",
    "\\end{vmatrix}\n",
    "\\begin{vmatrix}\n",
    "\\theta_{0,0} & \\theta_{0,1} & \\theta_{0, 2} & ... & \\theta_{0, K} \\\\\n",
    "\\theta_{1,0} & ...     & ...      & ... & ...      \\\\\n",
    "\\theta_{2,0} & ...     & ...      & ... & ...      \\\\\n",
    "...     & ...     & ...      & ... & ...      \\\\\n",
    "\\theta_{J,0} & ...     & ...      & ... & \\theta_{J, K}\n",
    "\\end{vmatrix}^{T}\n",
    "=\n",
    "\\begin{vmatrix}\n",
    "r_{0,0} & r_{0,1} & r_{0, 2} & ... & r_{0, J} \\\\\n",
    "r_{1,0} & ...     & ...      & ... & ...      \\\\\n",
    "r_{2,0} & ...     & ...      & ... & ...      \\\\\n",
    "...     & ...     & ...      & ... & ...      \\\\\n",
    "r_{I,0} & ...     & ...      & ... & r_{I, J}\n",
    "\\end{vmatrix}\n",
    "$$\n",
    "\n",
    "$X$ represents the latent feature matrix for all users in our system. $\\Theta$ represents the latent feature matrix for all movies in our system. The matrix product of $X$ and $\\Theta^{T}$ is the model predicated rating. \n",
    "\n",
    "$$\n",
    "X\\Theta^{T} = \\hat{R}\n",
    "$$\n",
    "\n",
    "Let $R$ represents the actual rating we received from the MovieLens dataset. For every missing value in $R$, we will place them with average rating each movie received from the poll of users. Then we define the loss function as follows:\n",
    "\n",
    "$$\n",
    "L_{X, \\Theta} = \\frac{1}{2}\\Sigma_{i,j} (X\\Theta^{T} - R)^{2} + \\frac{\\lambda}{2}\\Sigma_{i, k}X^{2} + \\frac{\\lambda}{2}\\Sigma_{j, k}\\Theta^{2}\n",
    "$$\n",
    "\n",
    "The optimization objective here is to minimize the loss function above."
   ]
  },
  {
   "cell_type": "markdown",
   "metadata": {},
   "source": [
    "## Partial Derivatives & Gradients\n",
    "\n",
    "Recall that the output of our low-rank matrices model is $\\hat{R}$ and let's find the gradient of $L$ with respect to $\\hat{R}$ first. The $\\frac{1}{2}$ term will get canceled out by the square term.\n",
    "\n",
    "$$\n",
    "\\frac{\\partial L}{\\partial \\hat{R}} = \\hat{R} - R\n",
    "$$\n",
    "\n",
    "$$\n",
    "\\hat{R} = X\\Theta^{T}\n",
    "$$\n",
    "\n",
    "Now let's figure out the gradient of $\\hat{R}$ with respect to $X$ and $\\Theta$:\n",
    "\n",
    "$$\n",
    "\\frac{\\partial \\hat{R}}{\\partial X} = \\Theta^{T}\n",
    "$$\n",
    "\n",
    "$$\n",
    "\\frac{\\partial \\hat{R}}{\\partial \\Theta} = X\n",
    "$$\n",
    "\n",
    "Using chain rule, we can then derive the following results:\n",
    "\n",
    "$$\n",
    "\\frac{\\partial L}{\\partial X} = \\frac{\\partial L}{\\partial \\hat{R}}\\frac{\\partial \\hat{R}}{\\partial X}\n",
    "$$\n",
    "\n",
    "$$\n",
    "\\frac{\\partial L}{\\partial \\Theta} = \\frac{\\partial L}{\\partial \\hat{R}}\\frac{\\partial \\hat{R}}{\\partial \\Theta}\n",
    "$$"
   ]
  },
  {
   "cell_type": "markdown",
   "metadata": {},
   "source": [
    "### Python\n",
    "```python\n",
    "\"\"\"Denote U as the user latent feature matrix and M as the movie latent feature matrix\"\"\"\n",
    "model_pred = np.dot(U, M.T)\n",
    "\n",
    "grad_pred = model_pred - R \n",
    "grad_u = np.dot(grad_pred, M) + (reg * U)\n",
    "grad_m = np.dot(grad_pred.T, U) + (reg * M)\n",
    "```"
   ]
  },
  {
   "cell_type": "markdown",
   "metadata": {},
   "source": [
    "## Implementation\n",
    "Please look at `low_rank.py` for implementation details. The followings are actual usage of the implementation."
   ]
  },
  {
   "cell_type": "code",
   "execution_count": 1,
   "metadata": {},
   "outputs": [
    {
     "name": "stdout",
     "output_type": "stream",
     "text": [
      "\n",
      "Iterative implementation\n",
      "\n",
      "Gradient of U relative error 1.0172831984560027e-09\n",
      "Gradient of M relative error 1.7219981562698945e-09\n",
      "\n",
      "Fully vectorized implementation\n",
      "\n",
      "Gradient of U relative error 1.0172831984560027e-09\n",
      "Gradient of M relative error 1.7219981562698945e-09\n"
     ]
    }
   ],
   "source": [
    "import numpy as np\n",
    "from low_rank import *\n",
    "\n",
    "num_user = 5\n",
    "num_movie = 10\n",
    "lat_dim = 10\n",
    "reg = 0.1\n",
    "\n",
    "np.random.seed(0)\n",
    "R = np.random.rand(num_user, num_movie) * 5\n",
    "U = np.random.rand(num_user, lat_dim)\n",
    "M = np.random.randn(num_movie, lat_dim)\n",
    "\n",
    "np.dot(U, M.T)\n",
    "\n",
    "grad_u, grad_m = compute_grad(U, M, R, reg)\n",
    "num_grad_u, num_grad_m = compute_num_grad(U, M, R, loss, reg)\n",
    "\n",
    "print \"\\nIterative implementation\\n\"                                                                                                                                                                                                                \n",
    "print \"Gradient of U relative error %s\" % str(rel_error(grad_u, num_grad_u))\n",
    "print \"Gradient of M relative error %s\" % str(rel_error(grad_m, num_grad_m))\n",
    "\n",
    "print \"\\nFully vectorized implementation\\n\"\n",
    "grad_u, grad_m = compute_grad_vectorized(U, M, R, reg)\n",
    "print \"Gradient of U relative error %s\" % str(rel_error(grad_u, num_grad_u))\n",
    "print \"Gradient of M relative error %s\" % str(rel_error(grad_m, num_grad_m))"
   ]
  },
  {
   "cell_type": "markdown",
   "metadata": {},
   "source": [
    "## Training"
   ]
  },
  {
   "cell_type": "code",
   "execution_count": 2,
   "metadata": {},
   "outputs": [
    {
     "data": {
      "image/png": "[encoded data removed]",
      "text/plain": [
       "<matplotlib.figure.Figure at 0x7f976f28b0d0>"
      ]
     },
     "metadata": {},
     "output_type": "display_data"
    },
    {
     "name": "stdout",
     "output_type": "stream",
     "text": [
      "Model Prediction:\n",
      "[[2.74453558 3.5730624  3.0013782  2.72495306 2.07634872 3.22343667\n",
      "  2.16867417 4.40479659 4.75925313 1.95241956]\n",
      " [3.93110101 2.65246219 2.81375603 4.58581008 0.35362361 0.4780791\n",
      "  0.12669202 4.14591792 3.86561675 4.29266286]\n",
      " [4.83346695 3.95758285 2.31372635 3.87466965 0.60928358 3.15844329\n",
      "  0.72523497 4.68932701 2.63658184 2.08560523]\n",
      " [1.35017893 3.83396737 2.28135232 2.82940949 0.1291836  3.05680769\n",
      "  3.0107386  3.0909186  4.68444611 3.36702171]\n",
      " [1.78355249 2.173264   3.43614197 0.32010237 3.2775662  3.31310629\n",
      "  1.05220428 0.67575537 1.58832707 1.79163532]]\n",
      "\n",
      "\n",
      "Actual Rating:\n",
      "[[2.74406752 3.57594683 3.01381688 2.72441591 2.118274   3.22947057\n",
      "  2.18793606 4.458865   4.8183138  1.91720759]\n",
      " [3.95862519 2.6444746  2.84022281 4.62798319 0.35518029 0.4356465\n",
      "  0.10109199 4.16309923 3.89078375 4.35006074]\n",
      " [4.89309171 3.99579282 2.30739681 3.90264588 0.59137213 3.19960511\n",
      "  0.71676644 4.72334459 2.60924161 2.0733097 ]\n",
      " [1.32277806 3.87116845 2.28075166 2.84216974 0.093949   3.08817749\n",
      "  3.06047861 3.08466998 4.71874039 3.4091015 ]\n",
      " [1.7975395  2.18515977 3.48815598 0.30112736 3.33383358 3.35318935\n",
      "  1.05191281 0.64463149 1.57714175 1.81855385]]\n"
     ]
    }
   ],
   "source": [
    "%matplotlib inline\n",
    "import matplotlib\n",
    "import numpy as np\n",
    "import matplotlib.pyplot as plt\n",
    "\n",
    "steps = 1000\n",
    "learning_rate = 5e-2\n",
    "losses = []\n",
    "\n",
    "for step in range(steps):\n",
    "    losses.append(loss(U, M, R, reg))\n",
    "    grad_u, grad_m = compute_grad(U, M, R, reg)\n",
    "    U = U - learning_rate * grad_u\n",
    "    M = M - learning_rate * grad_m\n",
    "    \n",
    "plt.plot(list(range(steps)), losses, 'o-')\n",
    "plt.show()\n",
    "\n",
    "print \"Model Prediction:\"\n",
    "print np.dot(U, M.T)\n",
    "\n",
    "print \"\\n\"\n",
    "\n",
    "print \"Actual Rating:\"\n",
    "print R"
   ]
  },
  {
   "cell_type": "markdown",
   "metadata": {},
   "source": [
    "## Given a new user\n",
    "\n",
    "Suppose that we are given a new user, we can perform the same type of training on this user except that we are not modifying the movie features; we will only modify the new user's preference vector."
   ]
  },
  {
   "cell_type": "code",
   "execution_count": 3,
   "metadata": {
    "scrolled": true
   },
   "outputs": [
    {
     "data": {
      "image/png": "[encoded data removed]",
      "text/plain": [
       "<matplotlib.figure.Figure at 0x7f976aae35d0>"
      ]
     },
     "metadata": {},
     "output_type": "display_data"
    },
    {
     "name": "stdout",
     "output_type": "stream",
     "text": [
      "Model Prediction:\n",
      "[[2.76690846 2.98396037 2.79845699 2.91466947 1.40023845 2.21762572\n",
      "  1.36317421 3.54381645 3.85284556 2.72895791]]\n",
      "\n",
      "\n",
      "Actual Rating:\n",
      "[[3.58429841 1.98029851 2.82710656 0.91639918 0.7242388  2.4402814\n",
      "  1.77806369 4.70215973 3.82662627 3.7433181 ]]\n"
     ]
    }
   ],
   "source": [
    "single_user_matrix = np.random.rand(1, lat_dim)\n",
    "single_user_rating = np.random.rand(1, num_movie) * 5\n",
    "losses = []\n",
    "learning_rate = 1e-2\n",
    "\n",
    "steps = 200\n",
    "for step in range(steps):\n",
    "    losses.append(loss(single_user_matrix, M, single_user_rating, reg))\n",
    "    grad_u, _ = compute_grad(single_user_matrix, M, single_user_rating, reg)\n",
    "    single_user_matrix = single_user_matrix - learning_rate * grad_u\n",
    "    \n",
    "plt.plot(list(range(steps)), losses, 'o-')\n",
    "plt.show()\n",
    "\n",
    "print \"Model Prediction:\"\n",
    "print np.dot(single_user_matrix, M.T)\n",
    "\n",
    "print \"\\n\"\n",
    "\n",
    "print \"Actual Rating:\"\n",
    "print single_user_rating"
   ]
  },
  {
   "cell_type": "markdown",
   "metadata": {},
   "source": [
    "After all this is a linear model, it does have difficulty with fitting random data perfectly."
   ]
  }
 ],
 "metadata": {
  "kernelspec": {
   "display_name": "Python 2",
   "language": "python",
   "name": "python2"
  },
  "language_info": {
   "codemirror_mode": {
    "name": "ipython",
    "version": 2
   },
   "file_extension": ".py",
   "mimetype": "text/x-python",
   "name": "python",
   "nbconvert_exporter": "python",
   "pygments_lexer": "ipython2",
   "version": "2.7.12"
  }
 },
 "nbformat": 4,
 "nbformat_minor": 2
}
